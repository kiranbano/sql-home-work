{
 "cells": [
  {
   "cell_type": "code",
   "execution_count": 111,
   "metadata": {},
   "outputs": [],
   "source": [
    "import pandas as pd\n",
    "import sqlalchemy\n",
    "import pprint\n",
    "import psycopg2\n",
    "import matplotlib.pyplot as plt\n",
    "%matplotlib inline"
   ]
  },
  {
   "cell_type": "code",
   "execution_count": 112,
   "metadata": {},
   "outputs": [],
   "source": [
    "from sqlalchemy import create_engine"
   ]
  },
  {
   "cell_type": "code",
   "execution_count": 113,
   "metadata": {},
   "outputs": [],
   "source": [
    "#set up connection with SQL db\n",
    "connection_string = \"postgres:postgres@localhost:5432/homework\"\n",
    "engine = create_engine(f'postgresql://{connection_string}')"
   ]
  },
  {
   "cell_type": "code",
   "execution_count": 114,
   "metadata": {},
   "outputs": [
    {
     "data": {
      "text/plain": [
       "['manager', 'titles', 'employees', 'dept_employees', 'departments', 'salaries']"
      ]
     },
     "execution_count": 114,
     "metadata": {},
     "output_type": "execute_result"
    }
   ],
   "source": [
    "# Confirm tables currently in db\n",
    "engine.table_names()"
   ]
  },
  {
   "cell_type": "code",
   "execution_count": 122,
   "metadata": {},
   "outputs": [
    {
     "data": {
      "text/html": [
       "<div>\n",
       "<style scoped>\n",
       "    .dataframe tbody tr th:only-of-type {\n",
       "        vertical-align: middle;\n",
       "    }\n",
       "\n",
       "    .dataframe tbody tr th {\n",
       "        vertical-align: top;\n",
       "    }\n",
       "\n",
       "    .dataframe thead th {\n",
       "        text-align: right;\n",
       "    }\n",
       "</style>\n",
       "<table border=\"1\" class=\"dataframe\">\n",
       "  <thead>\n",
       "    <tr style=\"text-align: right;\">\n",
       "      <th></th>\n",
       "      <th>emp_no</th>\n",
       "      <th>salary</th>\n",
       "      <th>title_id</th>\n",
       "      <th>tite</th>\n",
       "      <th>emp_title_id</th>\n",
       "    </tr>\n",
       "  </thead>\n",
       "  <tbody>\n",
       "    <tr>\n",
       "      <th>0</th>\n",
       "      <td>10005</td>\n",
       "      <td>78228</td>\n",
       "      <td>s0001</td>\n",
       "      <td>Staff</td>\n",
       "      <td>s0001</td>\n",
       "    </tr>\n",
       "    <tr>\n",
       "      <th>1</th>\n",
       "      <td>10010</td>\n",
       "      <td>72488</td>\n",
       "      <td>e0002</td>\n",
       "      <td>Engineer</td>\n",
       "      <td>e0002</td>\n",
       "    </tr>\n",
       "    <tr>\n",
       "      <th>2</th>\n",
       "      <td>10011</td>\n",
       "      <td>42365</td>\n",
       "      <td>s0001</td>\n",
       "      <td>Staff</td>\n",
       "      <td>s0001</td>\n",
       "    </tr>\n",
       "    <tr>\n",
       "      <th>3</th>\n",
       "      <td>10018</td>\n",
       "      <td>55881</td>\n",
       "      <td>e0003</td>\n",
       "      <td>Senior Engineer</td>\n",
       "      <td>e0003</td>\n",
       "    </tr>\n",
       "    <tr>\n",
       "      <th>4</th>\n",
       "      <td>10035</td>\n",
       "      <td>41538</td>\n",
       "      <td>e0003</td>\n",
       "      <td>Senior Engineer</td>\n",
       "      <td>e0003</td>\n",
       "    </tr>\n",
       "    <tr>\n",
       "      <th>...</th>\n",
       "      <td>...</td>\n",
       "      <td>...</td>\n",
       "      <td>...</td>\n",
       "      <td>...</td>\n",
       "      <td>...</td>\n",
       "    </tr>\n",
       "    <tr>\n",
       "      <th>300019</th>\n",
       "      <td>499963</td>\n",
       "      <td>49383</td>\n",
       "      <td>e0003</td>\n",
       "      <td>Senior Engineer</td>\n",
       "      <td>e0003</td>\n",
       "    </tr>\n",
       "    <tr>\n",
       "      <th>300020</th>\n",
       "      <td>499972</td>\n",
       "      <td>41002</td>\n",
       "      <td>e0003</td>\n",
       "      <td>Senior Engineer</td>\n",
       "      <td>e0003</td>\n",
       "    </tr>\n",
       "    <tr>\n",
       "      <th>300021</th>\n",
       "      <td>499985</td>\n",
       "      <td>40000</td>\n",
       "      <td>s0001</td>\n",
       "      <td>Staff</td>\n",
       "      <td>s0001</td>\n",
       "    </tr>\n",
       "    <tr>\n",
       "      <th>300022</th>\n",
       "      <td>499987</td>\n",
       "      <td>52282</td>\n",
       "      <td>s0001</td>\n",
       "      <td>Staff</td>\n",
       "      <td>s0001</td>\n",
       "    </tr>\n",
       "    <tr>\n",
       "      <th>300023</th>\n",
       "      <td>499998</td>\n",
       "      <td>40000</td>\n",
       "      <td>s0001</td>\n",
       "      <td>Staff</td>\n",
       "      <td>s0001</td>\n",
       "    </tr>\n",
       "  </tbody>\n",
       "</table>\n",
       "<p>300024 rows × 5 columns</p>\n",
       "</div>"
      ],
      "text/plain": [
       "        emp_no  salary title_id             tite emp_title_id\n",
       "0        10005   78228    s0001            Staff        s0001\n",
       "1        10010   72488    e0002         Engineer        e0002\n",
       "2        10011   42365    s0001            Staff        s0001\n",
       "3        10018   55881    e0003  Senior Engineer        e0003\n",
       "4        10035   41538    e0003  Senior Engineer        e0003\n",
       "...        ...     ...      ...              ...          ...\n",
       "300019  499963   49383    e0003  Senior Engineer        e0003\n",
       "300020  499972   41002    e0003  Senior Engineer        e0003\n",
       "300021  499985   40000    s0001            Staff        s0001\n",
       "300022  499987   52282    s0001            Staff        s0001\n",
       "300023  499998   40000    s0001            Staff        s0001\n",
       "\n",
       "[300024 rows x 5 columns]"
      ]
     },
     "execution_count": 122,
     "metadata": {},
     "output_type": "execute_result"
    }
   ],
   "source": [
    "titles_salaries_df= pd.read_sql('select * from comb_titles_salaries', connection)\n",
    "titles_salaries_df"
   ]
  },
  {
   "cell_type": "code",
   "execution_count": 123,
   "metadata": {},
   "outputs": [
    {
     "data": {
      "text/plain": [
       "tite\n",
       "Assistant Engineer    48564.434447\n",
       "Engineer              48535.336511\n",
       "Manager               51531.041667\n",
       "Senior Engineer       48506.799871\n",
       "Senior Staff          58550.172704\n",
       "Name: salary, dtype: float64"
      ]
     },
     "execution_count": 123,
     "metadata": {},
     "output_type": "execute_result"
    }
   ],
   "source": [
    "titles_groupby= titles_salaries_df.groupby(['tite'])['salary'].mean()\n",
    "titles_groupby.head()"
   ]
  },
  {
   "cell_type": "code",
   "execution_count": 125,
   "metadata": {},
   "outputs": [
    {
     "data": {
      "text/plain": [
       "array([[<matplotlib.axes._subplots.AxesSubplot object at 0x000002C8B6371910>]],\n",
       "      dtype=object)"
      ]
     },
     "execution_count": 125,
     "metadata": {},
     "output_type": "execute_result"
    },
    {
     "data": {
      "image/png": "[encoded data removed]",
      "text/plain": [
       "<Figure size 432x288 with 1 Axes>"
      ]
     },
     "metadata": {
      "needs_background": "light"
     },
     "output_type": "display_data"
    }
   ],
   "source": [
    "titles_salaries_df.hist(column='salary')"
   ]
  },
  {
   "cell_type": "code",
   "execution_count": 126,
   "metadata": {},
   "outputs": [
    {
     "data": {
      "text/plain": [
       "<matplotlib.axes._subplots.AxesSubplot at 0x2c8c835f700>"
      ]
     },
     "execution_count": 126,
     "metadata": {},
     "output_type": "execute_result"
    },
    {
     "data": {
      "image/png": "[encoded data removed]",
      "text/plain": [
       "<Figure size 432x288 with 1 Axes>"
      ]
     },
     "metadata": {
      "needs_background": "light"
     },
     "output_type": "display_data"
    }
   ],
   "source": [
    "titles_groupby.plot.bar()"
   ]
  },
  {
   "cell_type": "code",
   "execution_count": null,
   "metadata": {},
   "outputs": [],
   "source": []
  }
 ],
 "metadata": {
  "kernelspec": {
   "display_name": "Python 3",
   "language": "python",
   "name": "python3"
  },
  "language_info": {
   "codemirror_mode": {
    "name": "ipython",
    "version": 3
   },
   "file_extension": ".py",
   "mimetype": "text/x-python",
   "name": "python",
   "nbconvert_exporter": "python",
   "pygments_lexer": "ipython3",
   "version": "3.8.3"
  }
 },
 "nbformat": 4,
 "nbformat_minor": 4
}
